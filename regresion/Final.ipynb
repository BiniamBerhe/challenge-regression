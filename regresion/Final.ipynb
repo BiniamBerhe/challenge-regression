{
 "cells": [
  {
   "cell_type": "code",
   "execution_count": 96,
   "id": "57ff5b0a",
   "metadata": {},
   "outputs": [],
   "source": [
    "import numpy as np\n",
    "import pandas as pd\n",
    "\n",
    "from sklearn.preprocessing import OrdinalEncoder\n",
    "\n",
    "import matplotlib.pyplot as plt\n",
    "import plotly.express as px\n",
    "import seaborn as sns"
   ]
  },
  {
   "cell_type": "code",
   "execution_count": 97,
   "id": "01af03ea",
   "metadata": {},
   "outputs": [],
   "source": [
    "df = pd.read_csv('final_clean_df.csv')"
   ]
  },
  {
   "cell_type": "code",
   "execution_count": 98,
   "id": "7290add3",
   "metadata": {
    "scrolled": false
   },
   "outputs": [
    {
     "data": {
      "text/html": [
       "<div>\n",
       "<style scoped>\n",
       "    .dataframe tbody tr th:only-of-type {\n",
       "        vertical-align: middle;\n",
       "    }\n",
       "\n",
       "    .dataframe tbody tr th {\n",
       "        vertical-align: top;\n",
       "    }\n",
       "\n",
       "    .dataframe thead th {\n",
       "        text-align: right;\n",
       "    }\n",
       "</style>\n",
       "<table border=\"1\" class=\"dataframe\">\n",
       "  <thead>\n",
       "    <tr style=\"text-align: right;\">\n",
       "      <th></th>\n",
       "      <th>Unnamed: 0</th>\n",
       "      <th>Property_type</th>\n",
       "      <th>Price</th>\n",
       "      <th>Building_condition</th>\n",
       "      <th>Number_of_frontages</th>\n",
       "      <th>Living_area</th>\n",
       "      <th>Bedrooms</th>\n",
       "      <th>Furnished</th>\n",
       "      <th>Swimming_pool</th>\n",
       "      <th>Garden_surface</th>\n",
       "      <th>...</th>\n",
       "      <th>code_9700</th>\n",
       "      <th>code_9900</th>\n",
       "      <th>K_Hyper equipped</th>\n",
       "      <th>K_Installed</th>\n",
       "      <th>K_Not installed</th>\n",
       "      <th>K_Semi equipped</th>\n",
       "      <th>K_USA hyper equipped</th>\n",
       "      <th>K_USA installed</th>\n",
       "      <th>K_USA semi equipped</th>\n",
       "      <th>K_USA uninstalled</th>\n",
       "    </tr>\n",
       "  </thead>\n",
       "  <tbody>\n",
       "    <tr>\n",
       "      <th>0</th>\n",
       "      <td>1</td>\n",
       "      <td>0</td>\n",
       "      <td>399000.0</td>\n",
       "      <td>4.0</td>\n",
       "      <td>2.0</td>\n",
       "      <td>105.000000</td>\n",
       "      <td>2.0</td>\n",
       "      <td>0</td>\n",
       "      <td>0</td>\n",
       "      <td>0.0</td>\n",
       "      <td>...</td>\n",
       "      <td>0</td>\n",
       "      <td>0</td>\n",
       "      <td>0</td>\n",
       "      <td>1</td>\n",
       "      <td>0</td>\n",
       "      <td>0</td>\n",
       "      <td>0</td>\n",
       "      <td>0</td>\n",
       "      <td>0</td>\n",
       "      <td>0</td>\n",
       "    </tr>\n",
       "    <tr>\n",
       "      <th>1</th>\n",
       "      <td>2</td>\n",
       "      <td>0</td>\n",
       "      <td>499000.0</td>\n",
       "      <td>6.0</td>\n",
       "      <td>2.0</td>\n",
       "      <td>160.000000</td>\n",
       "      <td>3.0</td>\n",
       "      <td>0</td>\n",
       "      <td>0</td>\n",
       "      <td>0.0</td>\n",
       "      <td>...</td>\n",
       "      <td>0</td>\n",
       "      <td>0</td>\n",
       "      <td>0</td>\n",
       "      <td>0</td>\n",
       "      <td>0</td>\n",
       "      <td>0</td>\n",
       "      <td>1</td>\n",
       "      <td>0</td>\n",
       "      <td>0</td>\n",
       "      <td>0</td>\n",
       "    </tr>\n",
       "    <tr>\n",
       "      <th>2</th>\n",
       "      <td>3</td>\n",
       "      <td>0</td>\n",
       "      <td>1495000.0</td>\n",
       "      <td>6.0</td>\n",
       "      <td>3.0</td>\n",
       "      <td>210.000000</td>\n",
       "      <td>4.0</td>\n",
       "      <td>0</td>\n",
       "      <td>0</td>\n",
       "      <td>0.0</td>\n",
       "      <td>...</td>\n",
       "      <td>0</td>\n",
       "      <td>0</td>\n",
       "      <td>0</td>\n",
       "      <td>0</td>\n",
       "      <td>0</td>\n",
       "      <td>0</td>\n",
       "      <td>1</td>\n",
       "      <td>0</td>\n",
       "      <td>0</td>\n",
       "      <td>0</td>\n",
       "    </tr>\n",
       "    <tr>\n",
       "      <th>3</th>\n",
       "      <td>4</td>\n",
       "      <td>0</td>\n",
       "      <td>179000.0</td>\n",
       "      <td>4.0</td>\n",
       "      <td>2.0</td>\n",
       "      <td>63.000000</td>\n",
       "      <td>1.0</td>\n",
       "      <td>1</td>\n",
       "      <td>0</td>\n",
       "      <td>0.0</td>\n",
       "      <td>...</td>\n",
       "      <td>0</td>\n",
       "      <td>0</td>\n",
       "      <td>0</td>\n",
       "      <td>0</td>\n",
       "      <td>0</td>\n",
       "      <td>1</td>\n",
       "      <td>0</td>\n",
       "      <td>0</td>\n",
       "      <td>0</td>\n",
       "      <td>0</td>\n",
       "    </tr>\n",
       "    <tr>\n",
       "      <th>4</th>\n",
       "      <td>5</td>\n",
       "      <td>0</td>\n",
       "      <td>255000.0</td>\n",
       "      <td>4.0</td>\n",
       "      <td>2.0</td>\n",
       "      <td>42.000000</td>\n",
       "      <td>1.0</td>\n",
       "      <td>1</td>\n",
       "      <td>0</td>\n",
       "      <td>0.0</td>\n",
       "      <td>...</td>\n",
       "      <td>0</td>\n",
       "      <td>0</td>\n",
       "      <td>0</td>\n",
       "      <td>1</td>\n",
       "      <td>0</td>\n",
       "      <td>0</td>\n",
       "      <td>0</td>\n",
       "      <td>0</td>\n",
       "      <td>0</td>\n",
       "      <td>0</td>\n",
       "    </tr>\n",
       "    <tr>\n",
       "      <th>...</th>\n",
       "      <td>...</td>\n",
       "      <td>...</td>\n",
       "      <td>...</td>\n",
       "      <td>...</td>\n",
       "      <td>...</td>\n",
       "      <td>...</td>\n",
       "      <td>...</td>\n",
       "      <td>...</td>\n",
       "      <td>...</td>\n",
       "      <td>...</td>\n",
       "      <td>...</td>\n",
       "      <td>...</td>\n",
       "      <td>...</td>\n",
       "      <td>...</td>\n",
       "      <td>...</td>\n",
       "      <td>...</td>\n",
       "      <td>...</td>\n",
       "      <td>...</td>\n",
       "      <td>...</td>\n",
       "      <td>...</td>\n",
       "      <td>...</td>\n",
       "    </tr>\n",
       "    <tr>\n",
       "      <th>5568</th>\n",
       "      <td>12152</td>\n",
       "      <td>0</td>\n",
       "      <td>369000.0</td>\n",
       "      <td>6.0</td>\n",
       "      <td>2.0</td>\n",
       "      <td>55.000000</td>\n",
       "      <td>1.0</td>\n",
       "      <td>0</td>\n",
       "      <td>0</td>\n",
       "      <td>0.0</td>\n",
       "      <td>...</td>\n",
       "      <td>0</td>\n",
       "      <td>0</td>\n",
       "      <td>0</td>\n",
       "      <td>0</td>\n",
       "      <td>0</td>\n",
       "      <td>0</td>\n",
       "      <td>0</td>\n",
       "      <td>0</td>\n",
       "      <td>0</td>\n",
       "      <td>0</td>\n",
       "    </tr>\n",
       "    <tr>\n",
       "      <th>5569</th>\n",
       "      <td>12155</td>\n",
       "      <td>0</td>\n",
       "      <td>253515.0</td>\n",
       "      <td>4.0</td>\n",
       "      <td>2.0</td>\n",
       "      <td>68.000000</td>\n",
       "      <td>1.0</td>\n",
       "      <td>0</td>\n",
       "      <td>0</td>\n",
       "      <td>0.0</td>\n",
       "      <td>...</td>\n",
       "      <td>0</td>\n",
       "      <td>0</td>\n",
       "      <td>0</td>\n",
       "      <td>0</td>\n",
       "      <td>0</td>\n",
       "      <td>0</td>\n",
       "      <td>0</td>\n",
       "      <td>0</td>\n",
       "      <td>0</td>\n",
       "      <td>0</td>\n",
       "    </tr>\n",
       "    <tr>\n",
       "      <th>5570</th>\n",
       "      <td>12158</td>\n",
       "      <td>0</td>\n",
       "      <td>132000.0</td>\n",
       "      <td>6.0</td>\n",
       "      <td>2.0</td>\n",
       "      <td>239.288809</td>\n",
       "      <td>1.0</td>\n",
       "      <td>0</td>\n",
       "      <td>0</td>\n",
       "      <td>0.0</td>\n",
       "      <td>...</td>\n",
       "      <td>0</td>\n",
       "      <td>0</td>\n",
       "      <td>0</td>\n",
       "      <td>0</td>\n",
       "      <td>0</td>\n",
       "      <td>0</td>\n",
       "      <td>0</td>\n",
       "      <td>0</td>\n",
       "      <td>0</td>\n",
       "      <td>0</td>\n",
       "    </tr>\n",
       "    <tr>\n",
       "      <th>5571</th>\n",
       "      <td>12159</td>\n",
       "      <td>0</td>\n",
       "      <td>177000.0</td>\n",
       "      <td>6.0</td>\n",
       "      <td>2.0</td>\n",
       "      <td>239.288809</td>\n",
       "      <td>1.0</td>\n",
       "      <td>0</td>\n",
       "      <td>0</td>\n",
       "      <td>0.0</td>\n",
       "      <td>...</td>\n",
       "      <td>0</td>\n",
       "      <td>0</td>\n",
       "      <td>0</td>\n",
       "      <td>0</td>\n",
       "      <td>0</td>\n",
       "      <td>0</td>\n",
       "      <td>0</td>\n",
       "      <td>0</td>\n",
       "      <td>0</td>\n",
       "      <td>0</td>\n",
       "    </tr>\n",
       "    <tr>\n",
       "      <th>5572</th>\n",
       "      <td>12160</td>\n",
       "      <td>0</td>\n",
       "      <td>190000.0</td>\n",
       "      <td>6.0</td>\n",
       "      <td>2.0</td>\n",
       "      <td>239.288809</td>\n",
       "      <td>2.0</td>\n",
       "      <td>0</td>\n",
       "      <td>0</td>\n",
       "      <td>0.0</td>\n",
       "      <td>...</td>\n",
       "      <td>0</td>\n",
       "      <td>0</td>\n",
       "      <td>0</td>\n",
       "      <td>0</td>\n",
       "      <td>0</td>\n",
       "      <td>0</td>\n",
       "      <td>0</td>\n",
       "      <td>0</td>\n",
       "      <td>0</td>\n",
       "      <td>0</td>\n",
       "    </tr>\n",
       "  </tbody>\n",
       "</table>\n",
       "<p>5573 rows × 126 columns</p>\n",
       "</div>"
      ],
      "text/plain": [
       "      Unnamed: 0  Property_type      Price  Building_condition  \\\n",
       "0              1              0   399000.0                 4.0   \n",
       "1              2              0   499000.0                 6.0   \n",
       "2              3              0  1495000.0                 6.0   \n",
       "3              4              0   179000.0                 4.0   \n",
       "4              5              0   255000.0                 4.0   \n",
       "...          ...            ...        ...                 ...   \n",
       "5568       12152              0   369000.0                 6.0   \n",
       "5569       12155              0   253515.0                 4.0   \n",
       "5570       12158              0   132000.0                 6.0   \n",
       "5571       12159              0   177000.0                 6.0   \n",
       "5572       12160              0   190000.0                 6.0   \n",
       "\n",
       "      Number_of_frontages  Living_area  Bedrooms  Furnished  Swimming_pool  \\\n",
       "0                     2.0   105.000000       2.0          0              0   \n",
       "1                     2.0   160.000000       3.0          0              0   \n",
       "2                     3.0   210.000000       4.0          0              0   \n",
       "3                     2.0    63.000000       1.0          1              0   \n",
       "4                     2.0    42.000000       1.0          1              0   \n",
       "...                   ...          ...       ...        ...            ...   \n",
       "5568                  2.0    55.000000       1.0          0              0   \n",
       "5569                  2.0    68.000000       1.0          0              0   \n",
       "5570                  2.0   239.288809       1.0          0              0   \n",
       "5571                  2.0   239.288809       1.0          0              0   \n",
       "5572                  2.0   239.288809       2.0          0              0   \n",
       "\n",
       "      Garden_surface  ...  code_9700  code_9900  K_Hyper equipped  \\\n",
       "0                0.0  ...          0          0                 0   \n",
       "1                0.0  ...          0          0                 0   \n",
       "2                0.0  ...          0          0                 0   \n",
       "3                0.0  ...          0          0                 0   \n",
       "4                0.0  ...          0          0                 0   \n",
       "...              ...  ...        ...        ...               ...   \n",
       "5568             0.0  ...          0          0                 0   \n",
       "5569             0.0  ...          0          0                 0   \n",
       "5570             0.0  ...          0          0                 0   \n",
       "5571             0.0  ...          0          0                 0   \n",
       "5572             0.0  ...          0          0                 0   \n",
       "\n",
       "      K_Installed  K_Not installed  K_Semi equipped  K_USA hyper equipped  \\\n",
       "0               1                0                0                     0   \n",
       "1               0                0                0                     1   \n",
       "2               0                0                0                     1   \n",
       "3               0                0                1                     0   \n",
       "4               1                0                0                     0   \n",
       "...           ...              ...              ...                   ...   \n",
       "5568            0                0                0                     0   \n",
       "5569            0                0                0                     0   \n",
       "5570            0                0                0                     0   \n",
       "5571            0                0                0                     0   \n",
       "5572            0                0                0                     0   \n",
       "\n",
       "      K_USA installed  K_USA semi equipped  K_USA uninstalled  \n",
       "0                   0                    0                  0  \n",
       "1                   0                    0                  0  \n",
       "2                   0                    0                  0  \n",
       "3                   0                    0                  0  \n",
       "4                   0                    0                  0  \n",
       "...               ...                  ...                ...  \n",
       "5568                0                    0                  0  \n",
       "5569                0                    0                  0  \n",
       "5570                0                    0                  0  \n",
       "5571                0                    0                  0  \n",
       "5572                0                    0                  0  \n",
       "\n",
       "[5573 rows x 126 columns]"
      ]
     },
     "execution_count": 98,
     "metadata": {},
     "output_type": "execute_result"
    }
   ],
   "source": [
    "df"
   ]
  },
  {
   "cell_type": "code",
   "execution_count": 99,
   "id": "d826005b",
   "metadata": {},
   "outputs": [
    {
     "data": {
      "image/png": "[encoded data removed]",
      "text/plain": [
       "<Figure size 432x288 with 2 Axes>"
      ]
     },
     "metadata": {
      "needs_background": "light"
     },
     "output_type": "display_data"
    }
   ],
   "source": [
    "fig, axes = plt.subplots(nrows=1, ncols=2)\n",
    "plt.tight_layout()\n",
    "axes[0].scatter(df['Living_area'],df['Price'])\n",
    "axes[1].scatter(df['Bedrooms'],df['Price'])\n",
    "plt.show()"
   ]
  },
  {
   "cell_type": "code",
   "execution_count": 100,
   "id": "49311431",
   "metadata": {},
   "outputs": [],
   "source": [
    "df.drop(['Unnamed: 0'], axis=1, inplace=True)"
   ]
  },
  {
   "cell_type": "code",
   "execution_count": 101,
   "id": "915ab9e9",
   "metadata": {},
   "outputs": [
    {
     "name": "stdout",
     "output_type": "stream",
     "text": [
      "X shape: (5573, 124)\n",
      "Y shape: (5573, 1)\n"
     ]
    }
   ],
   "source": [
    "#X = Pdummis.to_numpy().reshape(-1, 1)\n",
    "X = df.drop(columns=['Price']).to_numpy()\n",
    "Y = df.Price.to_numpy().reshape(-1, 1)\n",
    "print('X shape:', X.shape)\n",
    "print('Y shape:', Y.shape)\n"
   ]
  },
  {
   "cell_type": "code",
   "execution_count": 123,
   "id": "ea0431e0",
   "metadata": {},
   "outputs": [
    {
     "name": "stdout",
     "output_type": "stream",
     "text": [
      "X_train shape: (4458, 124)\n",
      "x_test shape: (1115, 124)\n",
      "Y_train shape: (4458, 1)\n",
      "y_test shape: (1115, 1)\n"
     ]
    }
   ],
   "source": [
    "from sklearn.model_selection import train_test_split\n",
    "\n",
    "X_train, x_test, Y_train, y_test = train_test_split(X, Y, test_size=0.2, random_state=0)\n",
    "#X_train, x_test, Y_train, y_test = train_test_split(X, Y, test_size=0.2)\n",
    "\n",
    "print('X_train shape:', X_train.shape)\n",
    "print('x_test shape:', x_test.shape)\n",
    "print('Y_train shape:', Y_train.shape)\n",
    "print('y_test shape:', y_test.shape)"
   ]
  },
  {
   "cell_type": "code",
   "execution_count": 124,
   "id": "2f90ece0",
   "metadata": {},
   "outputs": [
    {
     "data": {
      "text/plain": [
       "LinearRegression()"
      ]
     },
     "execution_count": 124,
     "metadata": {},
     "output_type": "execute_result"
    }
   ],
   "source": [
    "from sklearn.linear_model import LinearRegression\n",
    "reg = LinearRegression()\n",
    "reg.fit(X_train, Y_train)"
   ]
  },
  {
   "cell_type": "code",
   "execution_count": 125,
   "id": "2924c8d5",
   "metadata": {},
   "outputs": [
    {
     "data": {
      "text/plain": [
       "0.6625571582196566"
      ]
     },
     "execution_count": 125,
     "metadata": {},
     "output_type": "execute_result"
    }
   ],
   "source": [
    "reg.score(X_train, Y_train)"
   ]
  },
  {
   "cell_type": "code",
   "execution_count": 126,
   "id": "e1e9406e",
   "metadata": {},
   "outputs": [
    {
     "data": {
      "text/plain": [
       "0.5770228694710694"
      ]
     },
     "execution_count": 126,
     "metadata": {},
     "output_type": "execute_result"
    }
   ],
   "source": [
    "reg.score(x_test, y_test)"
   ]
  },
  {
   "cell_type": "code",
   "execution_count": 127,
   "id": "a4137515",
   "metadata": {},
   "outputs": [
    {
     "data": {
      "text/plain": [
       "198069111115.21967"
      ]
     },
     "execution_count": 127,
     "metadata": {},
     "output_type": "execute_result"
    }
   ],
   "source": [
    "from sklearn.metrics import mean_squared_error\n",
    "mean_squared_error(y_pred, y_test)"
   ]
  },
  {
   "cell_type": "code",
   "execution_count": 129,
   "id": "59b4034b",
   "metadata": {},
   "outputs": [
    {
     "data": {
      "text/plain": [
       "Text(0.5, 1.0, 'Price prediction Between 5M and 5k')"
      ]
     },
     "execution_count": 129,
     "metadata": {},
     "output_type": "execute_result"
    },
    {
     "data": {
      "image/png": "[encoded data removed]",
      "text/plain": [
       "<Figure size 432x288 with 1 Axes>"
      ]
     },
     "metadata": {
      "needs_background": "light"
     },
     "output_type": "display_data"
    }
   ],
   "source": [
    "# Plotting the observed vs predicted values\n",
    "import matplotlib.pyplot as plt\n",
    "plt.scatter(Y_train, reg.predict(X_train), color = \"red\")\n",
    "plt.scatter(y_test, reg.predict(x_test), c='green')\n",
    "plt.plot(Y_train,Y_train )\n",
    "plt.xlabel('Actual Price')\n",
    "plt.ylabel('Predicted Price')\n",
    "plt.title('Price prediction Between 5M and 5k')"
   ]
  },
  {
   "cell_type": "code",
   "execution_count": null,
   "id": "cab81165",
   "metadata": {},
   "outputs": [],
   "source": []
  }
 ],
 "metadata": {
  "kernelspec": {
   "display_name": "Python 3 (ipykernel)",
   "language": "python",
   "name": "python3"
  },
  "language_info": {
   "codemirror_mode": {
    "name": "ipython",
    "version": 3
   },
   "file_extension": ".py",
   "mimetype": "text/x-python",
   "name": "python",
   "nbconvert_exporter": "python",
   "pygments_lexer": "ipython3",
   "version": "3.9.7"
  }
 },
 "nbformat": 4,
 "nbformat_minor": 5
}
